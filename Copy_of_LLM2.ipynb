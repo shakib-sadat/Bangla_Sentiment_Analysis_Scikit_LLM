{
  "nbformat": 4,
  "nbformat_minor": 0,
  "metadata": {
    "colab": {
      "provenance": [],
      "gpuType": "T4",
      "include_colab_link": true
    },
    "kernelspec": {
      "name": "python3",
      "display_name": "Python 3"
    },
    "language_info": {
      "name": "python"
    },
    "accelerator": "GPU"
  },
  "cells": [
    {
      "cell_type": "markdown",
      "metadata": {
        "id": "view-in-github",
        "colab_type": "text"
      },
      "source": [
        "<a href=\"https://colab.research.google.com/github/shakib-sadat/Bangla_Sentiment_Analysis_Scikit_LLM/blob/main/Copy_of_LLM2.ipynb\" target=\"_parent\"><img src=\"https://colab.research.google.com/assets/colab-badge.svg\" alt=\"Open In Colab\"/></a>"
      ]
    },
    {
      "cell_type": "code",
      "execution_count": null,
      "metadata": {
        "id": "_VZVYDINBfyt"
      },
      "outputs": [],
      "source": [
        "!nvidia-smi"
      ]
    },
    {
      "cell_type": "code",
      "source": [
        "# !pip install -U pip\n",
        "!pip install accelerate\n",
        "!pip install appdirs\n",
        "!pip install bitsandbytes\n",
        "!pip install datasets\n",
        "!pip install fire\n",
        "# !pip install git+https://github.com/huggingface/peft.git\n",
        "# !pip install git+https://github.com/huggingface/transformers.git\n",
        "!pip install torch\n",
        "!pip install sentencepiece\n",
        "!pip install tensorboardX\n",
        "!pip install gradio"
      ],
      "metadata": {
        "id": "9ja9KOslBtHp"
      },
      "execution_count": null,
      "outputs": []
    },
    {
      "cell_type": "code",
      "source": [
        "!pip install peft"
      ],
      "metadata": {
        "id": "zK-VcQVqCI_4"
      },
      "execution_count": null,
      "outputs": []
    },
    {
      "cell_type": "code",
      "source": [
        "!pip install transformers"
      ],
      "metadata": {
        "id": "tVsEy6lsCMLI"
      },
      "execution_count": null,
      "outputs": []
    },
    {
      "cell_type": "code",
      "source": [
        "import transformers\n",
        "import textwrap\n",
        "from transformers import LlamaTokenizer, LlamaForCausalLM\n",
        "import os\n",
        "import sys\n",
        "from typing import List\n",
        "\n",
        "from peft import (\n",
        "    LoraConfig,\n",
        "    get_peft_model,\n",
        "    get_peft_model_state_dict,\n",
        "    prepare_model_for_int8_training,\n",
        ")\n",
        "\n",
        "import fire\n",
        "import torch\n",
        "from datasets import load_dataset\n",
        "import pandas as pd\n",
        "\n",
        "import matplotlib.pyplot as plt\n",
        "import matplotlib as mpl\n",
        "import seaborn as sns\n",
        "from pylab import rcParams\n",
        "import json\n",
        "\n",
        "%matplotlib inline\n",
        "sns.set(rc={'figure.figsize':(8, 6)})\n",
        "sns.set(rc={'figure.dpi':100})\n",
        "sns.set(style='white', palette='muted', font_scale=1.2)\n",
        "\n",
        "DEVICE = \"cuda\" if torch.cuda.is_available() else \"cpu\"\n",
        "DEVICE"
      ],
      "metadata": {
        "id": "t2RWW9p-CP4w"
      },
      "execution_count": null,
      "outputs": []
    },
    {
      "cell_type": "code",
      "source": [
        "import pandas as pd"
      ],
      "metadata": {
        "id": "BU8rlY16C-6_"
      },
      "execution_count": null,
      "outputs": []
    },
    {
      "cell_type": "code",
      "source": [
        "df = pd.read_excel(\"clean_reviews_multi.xlsx\")"
      ],
      "metadata": {
        "id": "CA0KLUbzDBhu"
      },
      "execution_count": null,
      "outputs": []
    },
    {
      "cell_type": "code",
      "source": [
        "df.head()"
      ],
      "metadata": {
        "id": "RpQNqqlwDGSn"
      },
      "execution_count": null,
      "outputs": []
    },
    {
      "cell_type": "code",
      "source": [
        "df.Comment_Type.value_counts()"
      ],
      "metadata": {
        "id": "XI__j_uHDH9-"
      },
      "execution_count": null,
      "outputs": []
    },
    {
      "cell_type": "code",
      "source": [
        "df.shape"
      ],
      "metadata": {
        "id": "nxAdVJkqDJeO"
      },
      "execution_count": null,
      "outputs": []
    },
    {
      "cell_type": "code",
      "source": [
        "df.Comment_Type.value_counts().plot(kind='bar');"
      ],
      "metadata": {
        "id": "XIIz8HA2DLAm"
      },
      "execution_count": null,
      "outputs": []
    },
    {
      "cell_type": "code",
      "source": [
        "dataset_data = [\n",
        "    {\n",
        "        \"instruction\": \"Detect the sentiment of the Comment.\",\n",
        "        \"input\": row_dict[\"cleaned\"],\n",
        "        \"output\": row_dict[\"Comment_Type\"]\n",
        "    }\n",
        "    for row_dict in df.to_dict(orient=\"records\")\n",
        "]"
      ],
      "metadata": {
        "id": "km9m-IiZDMeO"
      },
      "execution_count": null,
      "outputs": []
    },
    {
      "cell_type": "code",
      "source": [
        "dataset_data[0]"
      ],
      "metadata": {
        "colab": {
          "base_uri": "https://localhost:8080/"
        },
        "id": "zoRZaTTTDPNO",
        "outputId": "fb4b3f69-5659-4fed-a46a-6d0ddfd88544"
      },
      "execution_count": null,
      "outputs": [
        {
          "output_type": "execute_result",
          "data": {
            "text/plain": [
              "{'instruction': 'Detect the sentiment of the Comment.',\n",
              " 'input': 'খুবই আরাম দায়ক শীতের ঘরে পরার পারফেক্ট সেন্ডেল জুতা ধন্যবাদ সেলারকে এটার প্রাইস আরো কমানো',\n",
              " 'output': 'Positive'}"
            ]
          },
          "metadata": {},
          "execution_count": 13
        }
      ]
    },
    {
      "cell_type": "code",
      "source": [
        "with open(\"alpaca-sentiment-dataset.json\", \"w\") as f:\n",
        "   json.dump(dataset_data, f)"
      ],
      "metadata": {
        "id": "rHLZJqkQDQVF"
      },
      "execution_count": null,
      "outputs": []
    },
    {
      "cell_type": "code",
      "source": [
        "BASE_MODEL = \"decapoda-research/llama-7b-hf\"\n",
        "\n",
        "model = LlamaForCausalLM.from_pretrained(\n",
        "    BASE_MODEL,\n",
        "    load_in_8bit=True,\n",
        "    torch_dtype=torch.float16,\n",
        "    device_map=\"auto\"\n",
        ")\n",
        "\n",
        "tokenizer = LlamaTokenizer.from_pretrained(BASE_MODEL)\n",
        "\n",
        "tokenizer.pad_token_id = (\n",
        "    0  # unk. we want this to be different from the eos token\n",
        ")\n",
        "tokenizer.padding_side = \"left\""
      ],
      "metadata": {
        "id": "1MAFcppHDVA1"
      },
      "execution_count": null,
      "outputs": []
    },
    {
      "cell_type": "code",
      "source": [
        "data = load_dataset(\"json\", data_files=\"alpaca-sentiment-dataset.json\")"
      ],
      "metadata": {
        "id": "KJnHbpgfEFaV"
      },
      "execution_count": null,
      "outputs": []
    },
    {
      "cell_type": "code",
      "source": [
        "data[\"train\"]"
      ],
      "metadata": {
        "id": "R7HaDAOAEbwM"
      },
      "execution_count": null,
      "outputs": []
    },
    {
      "cell_type": "code",
      "source": [
        "CUTOFF_LEN = 256"
      ],
      "metadata": {
        "id": "r8N7waxrEejj"
      },
      "execution_count": null,
      "outputs": []
    },
    {
      "cell_type": "code",
      "source": [
        "def generate_prompt(data_point):\n",
        "    return f\"\"\"Below is an instruction that describes a task, paired with an input that provides further context. Write a response that appropriately completes the request.  # noqa: E501\n",
        "### Instruction:\n",
        "{data_point[\"instruction\"]}\n",
        "### Input:\n",
        "{data_point[\"input\"]}\n",
        "### Response:\n",
        "{data_point[\"output\"]}\"\"\""
      ],
      "metadata": {
        "id": "IJbSLd4hEfoT"
      },
      "execution_count": null,
      "outputs": []
    },
    {
      "cell_type": "code",
      "source": [
        "def tokenize(prompt, add_eos_token=True):\n",
        "    # there's probably a way to do this with the tokenizer settings\n",
        "    # but again, gotta move fast\n",
        "    result = tokenizer(\n",
        "        prompt,\n",
        "        truncation=True,\n",
        "        max_length=CUTOFF_LEN,\n",
        "        padding=False,\n",
        "        return_tensors=None,\n",
        "    )\n",
        "    if (\n",
        "        result[\"input_ids\"][-1] != tokenizer.eos_token_id\n",
        "        and len(result[\"input_ids\"]) < CUTOFF_LEN\n",
        "        and add_eos_token\n",
        "    ):\n",
        "        result[\"input_ids\"].append(tokenizer.eos_token_id)\n",
        "        result[\"attention_mask\"].append(1)\n",
        "\n",
        "    result[\"labels\"] = result[\"input_ids\"].copy()\n",
        "\n",
        "    return result\n",
        "\n",
        "def generate_and_tokenize_prompt(data_point):\n",
        "    full_prompt = generate_prompt(data_point)\n",
        "    tokenized_full_prompt = tokenize(full_prompt)\n",
        "    return tokenized_full_prompt"
      ],
      "metadata": {
        "id": "oHT2l6UTEhIb"
      },
      "execution_count": null,
      "outputs": []
    },
    {
      "cell_type": "code",
      "source": [
        "train_val = data[\"train\"].train_test_split(\n",
        "    test_size=200, shuffle=True, seed=42\n",
        ")\n",
        "train_data = (\n",
        "    train_val[\"train\"].shuffle().map(generate_and_tokenize_prompt)\n",
        ")\n",
        "val_data = (\n",
        "    train_val[\"test\"].shuffle().map(generate_and_tokenize_prompt)\n",
        ")"
      ],
      "metadata": {
        "id": "KCKMlKSSEiyb"
      },
      "execution_count": null,
      "outputs": []
    },
    {
      "cell_type": "code",
      "source": [
        "LORA_R = 8\n",
        "LORA_ALPHA = 16\n",
        "LORA_DROPOUT= 0.05\n",
        "LORA_TARGET_MODULES = [\n",
        "    \"q_proj\",\n",
        "    \"v_proj\",\n",
        "]\n",
        "\n",
        "BATCH_SIZE = 128\n",
        "MICRO_BATCH_SIZE = 4\n",
        "GRADIENT_ACCUMULATION_STEPS = BATCH_SIZE // MICRO_BATCH_SIZE\n",
        "LEARNING_RATE = 3e-4\n",
        "TRAIN_STEPS = 30\n",
        "OUTPUT_DIR = \"experiments\""
      ],
      "metadata": {
        "id": "1pDsH-fvEkwL"
      },
      "execution_count": null,
      "outputs": []
    },
    {
      "cell_type": "code",
      "source": [
        "model = prepare_model_for_int8_training(model)\n",
        "config = LoraConfig(\n",
        "    r=LORA_R,\n",
        "    lora_alpha=LORA_ALPHA,\n",
        "    target_modules=LORA_TARGET_MODULES,\n",
        "    lora_dropout=LORA_DROPOUT,\n",
        "    bias=\"none\",\n",
        "    task_type=\"CAUSAL_LM\",\n",
        ")\n",
        "model = get_peft_model(model, config)\n",
        "model.print_trainable_parameters()"
      ],
      "metadata": {
        "id": "WUWgGM7FEsly"
      },
      "execution_count": null,
      "outputs": []
    },
    {
      "cell_type": "code",
      "source": [
        "training_arguments = transformers.TrainingArguments(\n",
        "    per_device_train_batch_size=MICRO_BATCH_SIZE,\n",
        "    gradient_accumulation_steps=GRADIENT_ACCUMULATION_STEPS,\n",
        "    warmup_steps=20,\n",
        "    max_steps=TRAIN_STEPS,\n",
        "    learning_rate=LEARNING_RATE,\n",
        "    fp16=True,\n",
        "    logging_steps=10,\n",
        "    optim=\"adamw_torch\",\n",
        "    evaluation_strategy=\"epoch\",\n",
        "    save_strategy=\"epoch\",\n",
        "    eval_steps=5,\n",
        "    save_steps=5,\n",
        "    output_dir=OUTPUT_DIR,\n",
        "    save_total_limit=3,\n",
        "    metric_for_best_model = \"eval_accuracy\",\n",
        "    load_best_model_at_end=True,\n",
        "    report_to=\"tensorboard\"\n",
        ")"
      ],
      "metadata": {
        "id": "brBASuQEEvwK"
      },
      "execution_count": null,
      "outputs": []
    },
    {
      "cell_type": "code",
      "source": [
        "data_collator = transformers.DataCollatorForSeq2Seq(\n",
        "    tokenizer, pad_to_multiple_of=8, return_tensors=\"pt\", padding=True,\n",
        "    label_pad_token_id=tokenizer.pad_token_id, # Add this line\n",
        ")"
      ],
      "metadata": {
        "id": "8WdsOQ6VNlhI"
      },
      "execution_count": null,
      "outputs": []
    },
    {
      "cell_type": "code",
      "source": [
        "import torch\n",
        "from transformers import Trainer, DataCollator\n",
        "from sklearn.metrics import accuracy_score"
      ],
      "metadata": {
        "id": "zi2wb8aVS-W9"
      },
      "execution_count": null,
      "outputs": []
    },
    {
      "cell_type": "code",
      "source": [
        "def compute_metrics(pred):\n",
        "    labels_ids = pred.label_ids\n",
        "    pred_ids = pred.predictions.argmax(-1)\n",
        "    accuracy = (pred_ids == labels_ids).mean()\n",
        "    return {\"accuracy\": accuracy}"
      ],
      "metadata": {
        "id": "0sEr5V57SzsV"
      },
      "execution_count": null,
      "outputs": []
    },
    {
      "cell_type": "code",
      "source": [
        "trainer = transformers.Trainer(\n",
        "    model=model,\n",
        "    train_dataset=train_data,\n",
        "    eval_dataset=val_data,\n",
        "    args=training_arguments,\n",
        "    data_collator=data_collator,\n",
        "    compute_metrics=compute_metrics,  # Add this line\n",
        ")\n",
        "model.config.use_cache = False\n",
        "old_state_dict = model.state_dict\n",
        "model.state_dict = (\n",
        "    lambda self, *_, **__: get_peft_model_state_dict(\n",
        "        self, old_state_dict()\n",
        "    )\n",
        ").__get__(model, type(model))\n",
        "\n",
        "model = torch.compile(model)\n",
        "\n",
        "trainer.train()\n",
        "\n",
        "model.save_pretrained(OUTPUT_DIR)"
      ],
      "metadata": {
        "id": "3l-i2SLBOk0O"
      },
      "execution_count": null,
      "outputs": []
    },
    {
      "cell_type": "code",
      "source": [
        "result = trainer.evaluate()\n",
        "accuracy = result[\"eval_accuracy\"]\n",
        "print(\"Accuracy:\", accuracy)"
      ],
      "metadata": {
        "id": "E-V8ZHYWxQBT"
      },
      "execution_count": null,
      "outputs": []
    }
  ]
}